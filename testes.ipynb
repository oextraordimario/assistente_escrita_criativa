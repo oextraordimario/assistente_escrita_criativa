{
 "cells": [
  {
   "cell_type": "code",
   "execution_count": 8,
   "id": "0edc418f",
   "metadata": {},
   "outputs": [],
   "source": [
    "import os\n",
    "import dspy"
   ]
  },
  {
   "cell_type": "code",
   "execution_count": 9,
   "id": "f2ddb70a",
   "metadata": {},
   "outputs": [],
   "source": [
    "anthropic_api_key = os.getenv('ANTHROPIC_API_KEY')\n",
    "openai_api_key = os.getenv('OPENAI_API_KEY')"
   ]
  },
  {
   "cell_type": "code",
   "execution_count": 12,
   "id": "4b3969cb",
   "metadata": {},
   "outputs": [],
   "source": [
    "lm = dspy.LM('openai/gpt-4o-mini', api_key=openai_api_key)\n",
    "dspy.configure(lm=lm)"
   ]
  },
  {
   "cell_type": "code",
   "execution_count": 22,
   "id": "cd498b10",
   "metadata": {},
   "outputs": [],
   "source": [
    "prompt_poesia = \"\"\"\n",
    "## FUNÇÃO\n",
    "Você é um assistente de escrita criativa com foco em poesia.\n",
    "\n",
    "## TAREFA\n",
    "Sua tarefa é gerar associações de palavras que gerem novas ideias para a pessoa que está escrevendo.\n",
    "\n",
    "Ao receber uma palavra, responda com uma série de palavras e expressões relacionadas a ela. Organize essas palavras em categorias ou temas. Inclua quantas outras achar necessário, da forma que achar melhor.\n",
    "\"\"\""
   ]
  },
  {
   "cell_type": "code",
   "execution_count": 25,
   "id": "3b6ff9cf",
   "metadata": {},
   "outputs": [],
   "source": [
    "resposta = lm(messages=[\n",
    "    {\"role\": \"system\", \"content\": prompt_poesia},\n",
    "    {\"role\": \"user\", \"content\": \"Água\"}]\n",
    ")"
   ]
  },
  {
   "cell_type": "code",
   "execution_count": 27,
   "id": "c1f49d97",
   "metadata": {},
   "outputs": [
    {
     "name": "stdout",
     "output_type": "stream",
     "text": [
      "### Elementos Naturais\n",
      "- Rio\n",
      "- Oceano\n",
      "- Chuva\n",
      "- Lago\n",
      "- Fonte\n",
      "- Gota\n",
      "- Nuvem\n",
      "\n",
      "### Emoções e Sensações\n",
      "- Pureza\n",
      "- Tranquilidade\n",
      "- Fluidez\n",
      "- Refresco\n",
      "- Renovação\n",
      "- Serenidade\n",
      "\n",
      "### Ciclos da Vida\n",
      "- Crescimento\n",
      "- Fertilidade\n",
      "- Ciclo da água\n",
      "- Vida\n",
      "- Sustento\n",
      "- Transformação\n",
      "\n",
      "### Metáforas e Simbolismos\n",
      "- Espelho da alma\n",
      "- Correnteza do tempo\n",
      "- Fluxo das emoções\n",
      "- Profundidade\n",
      "- Reflexão\n",
      "- Limpeza\n",
      "\n",
      "### Atividades e Usos\n",
      "- Natação\n",
      "- Banho\n",
      "- Hidratante\n",
      "- Irrigação\n",
      "- Navegação\n",
      "- Pesca\n",
      "\n",
      "### Cultura e Mitos\n",
      "- Deuses da água\n",
      "- Lendas de sereias\n",
      "- Rituais de purificação\n",
      "- Contos de inundação\n",
      "- Mitos de criação\n",
      "\n",
      "### Palavras Relacionadas\n",
      "- Hidratação\n",
      "- Transparência\n",
      "- Movimento\n",
      "- Ondas\n",
      "- Maré\n",
      "- Salinidade\n",
      "\n",
      "Essas associações podem inspirar diferentes temas e imagens em sua poesia sobre a água!\n"
     ]
    }
   ],
   "source": [
    "formatted_resposta = \"\\n\\n\".join(resposta)\n",
    "print(formatted_resposta)"
   ]
  }
 ],
 "metadata": {
  "kernelspec": {
   "display_name": "Python 3",
   "language": "python",
   "name": "python3"
  },
  "language_info": {
   "codemirror_mode": {
    "name": "ipython",
    "version": 3
   },
   "file_extension": ".py",
   "mimetype": "text/x-python",
   "name": "python",
   "nbconvert_exporter": "python",
   "pygments_lexer": "ipython3",
   "version": "3.11.2"
  }
 },
 "nbformat": 4,
 "nbformat_minor": 5
}
