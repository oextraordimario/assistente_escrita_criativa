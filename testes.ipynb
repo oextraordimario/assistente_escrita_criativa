{
 "cells": [
  {
   "cell_type": "code",
   "execution_count": 28,
   "id": "0edc418f",
   "metadata": {},
   "outputs": [],
   "source": [
    "import os\n",
    "import dspy\n",
    "import json\n",
    "\n",
    "from typing import List, Dict"
   ]
  },
  {
   "cell_type": "code",
   "execution_count": 2,
   "id": "f2ddb70a",
   "metadata": {},
   "outputs": [],
   "source": [
    "anthropic_api_key = os.getenv('ANTHROPIC_API_KEY')\n",
    "openai_api_key = os.getenv('OPENAI_API_KEY')"
   ]
  },
  {
   "cell_type": "code",
   "execution_count": 17,
   "id": "4b3969cb",
   "metadata": {},
   "outputs": [],
   "source": [
    "config_gpt5 = '''\n",
    "lm = dspy.LM(\n",
    "        \"openai/gpt-5-mini\",\n",
    "        model_type=\"responses\",\n",
    "        temperature=1.0,\n",
    "        max_tokens=16000,\n",
    "    )\n",
    "\n",
    "dspy.settings.configure(lm=lm)\n",
    "'''\n",
    "\n",
    "lm = dspy.LM('openai/gpt-4o-mini', api_key=openai_api_key)\n",
    "dspy.configure(lm=lm)"
   ]
  },
  {
   "cell_type": "code",
   "execution_count": 4,
   "id": "cd498b10",
   "metadata": {},
   "outputs": [],
   "source": [
    "prompt_poesia = \"\"\"\n",
    "## FUNÇÃO\n",
    "Você é um assistente de escrita criativa com foco em poesia.\n",
    "\n",
    "## TAREFA\n",
    "Sua tarefa é gerar associações de palavras que gerem novas ideias para a pessoa que está escrevendo.\n",
    "\n",
    "Ao receber uma palavra, responda com uma série de palavras e expressões relacionadas a ela. Organize essas palavras em categorias ou temas. Inclua quantas outras achar necessário, da forma que achar melhor.\n",
    "\"\"\""
   ]
  },
  {
   "cell_type": "code",
   "execution_count": 18,
   "id": "3b6ff9cf",
   "metadata": {},
   "outputs": [],
   "source": [
    "resposta = lm(messages=[\n",
    "    {\"role\": \"system\", \"content\": prompt_poesia},\n",
    "    {\"role\": \"user\", \"content\": \"Água\"}]\n",
    ")"
   ]
  },
  {
   "cell_type": "code",
   "execution_count": 19,
   "id": "c1f49d97",
   "metadata": {},
   "outputs": [
    {
     "name": "stdout",
     "output_type": "stream",
     "text": [
      "### Elementos Naturais\n",
      "- Rio\n",
      "- Oceano\n",
      "- Chuva\n",
      "- Lago\n",
      "- Fonte\n",
      "- Gota\n",
      "- Nuvem\n",
      "\n",
      "### Emoções e Sensações\n",
      "- Pureza\n",
      "- Tranquilidade\n",
      "- Fluidez\n",
      "- Refresco\n",
      "- Renovação\n",
      "- Serenidade\n",
      "\n",
      "### Ciclos da Vida\n",
      "- Crescimento\n",
      "- Fertilidade\n",
      "- Ciclo da água\n",
      "- Vida\n",
      "- Sustento\n",
      "- Transformação\n",
      "\n",
      "### Metáforas e Simbolismos\n",
      "- Espelho da alma\n",
      "- Correnteza do tempo\n",
      "- Fluxo das emoções\n",
      "- Profundidade\n",
      "- Reflexão\n",
      "- Limpeza\n",
      "\n",
      "### Atividades e Usos\n",
      "- Natação\n",
      "- Banho\n",
      "- Hidratante\n",
      "- Irrigação\n",
      "- Navegação\n",
      "- Pesca\n",
      "\n",
      "### Cultura e Mitos\n",
      "- Deuses da água\n",
      "- Lendas de sereias\n",
      "- Rituais de purificação\n",
      "- Contos de inundação\n",
      "- Mitos de criação\n",
      "\n",
      "### Palavras Relacionadas\n",
      "- Hidratação\n",
      "- Transparência\n",
      "- Movimento\n",
      "- Ondas\n",
      "- Maré\n",
      "- Salinidade\n",
      "\n",
      "Essas associações podem inspirar diferentes temas e imagens em sua poesia sobre a água!\n"
     ]
    }
   ],
   "source": [
    "resposta_formatada = \"\\n\\n\".join(resposta)\n",
    "print(resposta_formatada)"
   ]
  },
  {
   "cell_type": "code",
   "execution_count": 20,
   "id": "5648c2df",
   "metadata": {},
   "outputs": [
    {
     "data": {
      "text/plain": [
       "[{'prompt': None,\n",
       "  'messages': [{'role': 'system',\n",
       "    'content': '\\n## FUNÇÃO\\nVocê é um assistente de escrita criativa com foco em poesia.\\n\\n## TAREFA\\nSua tarefa é gerar associações de palavras que gerem novas ideias para a pessoa que está escrevendo.\\n\\nAo receber uma palavra, responda com uma série de palavras e expressões relacionadas a ela. Organize essas palavras em categorias ou temas. Inclua quantas outras achar necessário, da forma que achar melhor.\\n'},\n",
       "   {'role': 'user', 'content': 'Água'}],\n",
       "  'kwargs': {},\n",
       "  'response': ModelResponse(id='chatcmpl-CIinpGPkfuVxduSXHCi7vt7ysnJex', created=1758578161, model='gpt-4o-mini-2024-07-18', object='chat.completion', system_fingerprint='fp_560af6e559', choices=[Choices(finish_reason='stop', index=0, message=Message(content='### Elementos Naturais\\n- Rio\\n- Oceano\\n- Chuva\\n- Lago\\n- Fonte\\n- Gota\\n- Nuvem\\n\\n### Emoções e Sensações\\n- Pureza\\n- Tranquilidade\\n- Fluidez\\n- Refresco\\n- Renovação\\n- Serenidade\\n\\n### Ciclos da Vida\\n- Crescimento\\n- Fertilidade\\n- Ciclo da água\\n- Vida\\n- Sustento\\n- Transformação\\n\\n### Metáforas e Simbolismos\\n- Espelho da alma\\n- Correnteza do tempo\\n- Fluxo das emoções\\n- Profundidade\\n- Reflexão\\n- Limpeza\\n\\n### Atividades e Usos\\n- Natação\\n- Banho\\n- Hidratante\\n- Irrigação\\n- Navegação\\n- Pesca\\n\\n### Cultura e Mitos\\n- Deuses da água\\n- Lendas de sereias\\n- Rituais de purificação\\n- Contos de inundação\\n- Mitos de criação\\n\\n### Palavras Relacionadas\\n- Hidratação\\n- Transparência\\n- Movimento\\n- Ondas\\n- Maré\\n- Salinidade\\n\\nEssas associações podem inspirar diferentes temas e imagens em sua poesia sobre a água!', role='assistant', tool_calls=None, function_call=None, provider_specific_fields={'refusal': None}, annotations=[]), provider_specific_fields={})], usage={}, service_tier='default', cache_hit=True),\n",
       "  'outputs': ['### Elementos Naturais\\n- Rio\\n- Oceano\\n- Chuva\\n- Lago\\n- Fonte\\n- Gota\\n- Nuvem\\n\\n### Emoções e Sensações\\n- Pureza\\n- Tranquilidade\\n- Fluidez\\n- Refresco\\n- Renovação\\n- Serenidade\\n\\n### Ciclos da Vida\\n- Crescimento\\n- Fertilidade\\n- Ciclo da água\\n- Vida\\n- Sustento\\n- Transformação\\n\\n### Metáforas e Simbolismos\\n- Espelho da alma\\n- Correnteza do tempo\\n- Fluxo das emoções\\n- Profundidade\\n- Reflexão\\n- Limpeza\\n\\n### Atividades e Usos\\n- Natação\\n- Banho\\n- Hidratante\\n- Irrigação\\n- Navegação\\n- Pesca\\n\\n### Cultura e Mitos\\n- Deuses da água\\n- Lendas de sereias\\n- Rituais de purificação\\n- Contos de inundação\\n- Mitos de criação\\n\\n### Palavras Relacionadas\\n- Hidratação\\n- Transparência\\n- Movimento\\n- Ondas\\n- Maré\\n- Salinidade\\n\\nEssas associações podem inspirar diferentes temas e imagens em sua poesia sobre a água!'],\n",
       "  'usage': {},\n",
       "  'cost': 0.00017099999999999998,\n",
       "  'timestamp': '2025-09-23T07:35:08.400894',\n",
       "  'uuid': '2d4dfdc8-5303-4063-ba9f-6bb37e64a128',\n",
       "  'model': 'openai/gpt-4o-mini',\n",
       "  'response_model': 'gpt-4o-mini-2024-07-18',\n",
       "  'model_type': 'chat'}]"
      ]
     },
     "execution_count": 20,
     "metadata": {},
     "output_type": "execute_result"
    }
   ],
   "source": [
    "lm.history"
   ]
  },
  {
   "cell_type": "code",
   "execution_count": 39,
   "id": "1efd7efe",
   "metadata": {},
   "outputs": [
    {
     "name": "stdout",
     "output_type": "stream",
     "text": [
      "{\n",
      "  \"termos_relacionados\": {\n",
      "    \"Tipos de Árvores\": [\n",
      "      \"Coníferas\",\n",
      "      \"Decíduas\",\n",
      "      \"Frutíferas\",\n",
      "      \"Nativas\",\n",
      "      \"Exóticas\"\n",
      "    ],\n",
      "    \"Partes da Árvore\": [\n",
      "      \"Folhas\",\n",
      "      \"Caule\",\n",
      "      \"Raízes\",\n",
      "      \"Copa\",\n",
      "      \"Casca\"\n",
      "    ],\n",
      "    \"Usos da Árvore\": [\n",
      "      \"Madeira\",\n",
      "      \"Sombra\",\n",
      "      \"Frutos\",\n",
      "      \"Ornamentação\",\n",
      "      \"Produção de oxigênio\"\n",
      "    ],\n",
      "    \"Ambientes\": [\n",
      "      \"Florestas\",\n",
      "      \"Parques\",\n",
      "      \"Jardins\",\n",
      "      \"Áreas urbanas\",\n",
      "      \"Sítios\"\n",
      "    ],\n",
      "    \"Simbolismo\": [\n",
      "      \"Vida\",\n",
      "      \"Crescimento\",\n",
      "      \"Força\",\n",
      "      \"Sabedoria\",\n",
      "      \"Conexão com a natureza\"\n",
      "    ]\n",
      "  }\n",
      "}\n"
     ]
    }
   ],
   "source": [
    "# 1) put the task description in the class docstring (this becomes the signature.instructions)\n",
    "class TermosRelacionados(dspy.Signature):\n",
    "    \"\"\"\n",
    "    Dada uma palavra de input, responda com uma série de palavras e expressões relacionadas a ela.\n",
    "    Organize essas palavras em categorias ou temas. Inclua quantas outras achar necessário, da forma que achar melhor.\n",
    "    Retorne apenas o objeto JSON, sem comentários, markdown etc.\n",
    "    \"\"\"\n",
    "    palavra_original: str = dspy.InputField(desc=\"Uma única palavra, ex: 'Árvore'\")\n",
    "    termos_relacionados: dict[str, list[str]] = dspy.OutputField(desc=\"Categorias de termos relacionados e os termos relacionados em si\")\n",
    "\n",
    "# 2) (recommended) tell DSPy to use the JSONAdapter so the LM is asked for structured JSON\n",
    "dspy.configure(adapter=dspy.JSONAdapter())\n",
    "\n",
    "# 3) create the Predict module (no instructions kw here!)\n",
    "generate = dspy.Predict(TermosRelacionados)\n",
    "\n",
    "# 4) call it\n",
    "pred = generate(palavra_original=\"Árvore\")\n",
    "\n",
    "# 5) convert Prediction -> dict and print as JSON\n",
    "result_dict = pred.toDict()   # Example/Prediction utilities include toDict()\n",
    "print(json.dumps(result_dict, indent=2, ensure_ascii=False))\n"
   ]
  }
 ],
 "metadata": {
  "kernelspec": {
   "display_name": "Python 3",
   "language": "python",
   "name": "python3"
  },
  "language_info": {
   "codemirror_mode": {
    "name": "ipython",
    "version": 3
   },
   "file_extension": ".py",
   "mimetype": "text/x-python",
   "name": "python",
   "nbconvert_exporter": "python",
   "pygments_lexer": "ipython3",
   "version": "3.11.2"
  }
 },
 "nbformat": 4,
 "nbformat_minor": 5
}
